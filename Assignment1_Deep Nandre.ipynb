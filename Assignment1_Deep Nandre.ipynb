{
  "nbformat": 4,
  "nbformat_minor": 0,
  "metadata": {
    "colab": {
      "provenance": [],
      "authorship_tag": "ABX9TyOvnuvcwDswn4tN3g+AHyGR",
      "include_colab_link": true
    },
    "kernelspec": {
      "name": "python3",
      "display_name": "Python 3"
    },
    "language_info": {
      "name": "python"
    }
  },
  "cells": [
    {
      "cell_type": "markdown",
      "metadata": {
        "id": "view-in-github",
        "colab_type": "text"
      },
      "source": [
        "<a href=\"https://colab.research.google.com/github/DeepNandre/Attiny85/blob/master/Assignment1_Deep%20Nandre.ipynb\" target=\"_parent\"><img src=\"https://colab.research.google.com/assets/colab-badge.svg\" alt=\"Open In Colab\"/></a>"
      ]
    },
    {
      "cell_type": "code",
      "execution_count": 1,
      "metadata": {
        "id": "p5xaEww-emaG"
      },
      "outputs": [],
      "source": [
        "import hashlib"
      ]
    },
    {
      "cell_type": "code",
      "source": [
        "class Deepcoin:\n",
        "  def __init__(self, previous_block_hash, transaction_list):\n",
        "    self.previous_block_hash = previous_block_hash\n",
        "    self.transaction_list = transaction_list\n",
        "\n",
        "    self.block_data = \"-\".join(transaction_list) + \"-\" + previous_block_hash\n",
        "    self.block_hash = hashlib.sha256(self.block_data.encode()).hexdigest()"
      ],
      "metadata": {
        "id": "H2diIpjlfTva"
      },
      "execution_count": 9,
      "outputs": []
    },
    {
      "cell_type": "code",
      "source": [
        "t1 = \"Deep sends 2 DC to Sulaxan\"\n",
        "t2 = \"Deep sends 5.2 DC to Vinayak\"\n",
        "t3 = \"Deep sends 6.1 DC to Bahubali\"\n",
        "t4 = \"Deep sends 6.1 DC to Prabhat\"\n",
        "t5 = \"Deep sends 6.1 DC to Tamal\"\n",
        "t6 = \"Deep sends 6.1 DC to Rajkumar\"\n",
        "\n"
      ],
      "metadata": {
        "id": "e89l5XphghOZ"
      },
      "execution_count": 15,
      "outputs": []
    },
    {
      "cell_type": "code",
      "source": [
        "initial_block = Deepcoin(\"Initial String\", [t1, t2])"
      ],
      "metadata": {
        "id": "BftzEnVKhH1S"
      },
      "execution_count": 6,
      "outputs": []
    },
    {
      "cell_type": "code",
      "source": [
        "print(initial_block.block_data)\n",
        "print(initial_block.block_hash)\n"
      ],
      "metadata": {
        "colab": {
          "base_uri": "https://localhost:8080/"
        },
        "id": "0aaCBEXGhfVn",
        "outputId": "228f6854-067c-4c1f-bef0-58f8598fc5f6"
      },
      "execution_count": 7,
      "outputs": [
        {
          "output_type": "stream",
          "name": "stdout",
          "text": [
            "Deep sends 2 DC to Gigi-Deep sends 2 DC to Hailey-Initial String\n",
            "72ef76094fd4ebf68abefb5fd9adad05f822f8ef8fb253ed66ba0dfd5ec4d76f\n"
          ]
        }
      ]
    },
    {
      "cell_type": "code",
      "source": [
        "second_block = Deepcoin(\"Initial_block.block_hash\", [t3, t4])"
      ],
      "metadata": {
        "id": "VUi50jMgikcO"
      },
      "execution_count": 12,
      "outputs": []
    },
    {
      "cell_type": "code",
      "source": [
        "print(second_block.block_data)\n",
        "print(second_block.block_hash)"
      ],
      "metadata": {
        "colab": {
          "base_uri": "https://localhost:8080/"
        },
        "id": "Bil9JRhVi4Ih",
        "outputId": "b010cea5-48b0-4814-cdc2-cde07bcb039e"
      },
      "execution_count": 13,
      "outputs": [
        {
          "output_type": "stream",
          "name": "stdout",
          "text": [
            "Deep sends 6.1 DC to Kylie-Deep sends 0.5 DC to Bella-Initial_block.block_hash\n",
            "3f72edac714ea4c29fb657ea0bbfcf651f7b5c58c0ddaf6feb05ae194712c927\n"
          ]
        }
      ]
    },
    {
      "cell_type": "code",
      "source": [
        "third_block = Deepcoin(\"second_block.block_hash\", [t5, t6])"
      ],
      "metadata": {
        "id": "qgDAZuenjaEI"
      },
      "execution_count": 16,
      "outputs": []
    },
    {
      "cell_type": "code",
      "source": [
        "print(third_block.block_data)\n",
        "print(third_block.block_hash)"
      ],
      "metadata": {
        "colab": {
          "base_uri": "https://localhost:8080/"
        },
        "id": "EJ_G5ZyVjd5f",
        "outputId": "af9acaa3-a96a-4564-9774-e5ea67e0fe1e"
      },
      "execution_count": 17,
      "outputs": [
        {
          "output_type": "stream",
          "name": "stdout",
          "text": [
            "Deep sends 6.1 DC to Tamal-Deep sends 6.1 DC to Rajkumar-second_block.block_hash\n",
            "900b6b6524f3767a80205bc54ef1ee1827ad64c2bfe1f7c4fbc70e1dc666c92b\n"
          ]
        }
      ]
    }
  ]
}